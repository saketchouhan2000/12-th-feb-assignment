{
 "cells": [
  {
   "cell_type": "code",
   "execution_count": 1,
   "id": "175bb85d-7cb5-45c4-886e-1c3822f28950",
   "metadata": {},
   "outputs": [],
   "source": [
    "# Q1 What is an exception in python? Write the difference between Exception and syntax Errors."
   ]
  },
  {
   "cell_type": "code",
   "execution_count": 1,
   "id": "26a398a0-4919-4812-968b-7a7c968a8fe7",
   "metadata": {},
   "outputs": [],
   "source": [
    "# Ans =  An exception is an event, which occurs during the execution of a program, that \n",
    "# disrupts the normal flow of the program's instructions."
   ]
  },
  {
   "cell_type": "code",
   "execution_count": 2,
   "id": "8e6b0599-c63e-4cce-b4c4-b60acefc8979",
   "metadata": {},
   "outputs": [],
   "source": [
    "# Q2. What happens when an exception is not handled? Explain with an example."
   ]
  },
  {
   "cell_type": "code",
   "execution_count": 4,
   "id": "0d5f66df-df49-4a82-9ef2-47bf1546eac0",
   "metadata": {},
   "outputs": [],
   "source": [
    "# Ans = When 'exception' not handled then the runtime system will abort the program\n",
    "# and an exception message will print to the console.\n",
    "# For Example\n"
   ]
  },
  {
   "cell_type": "code",
   "execution_count": 6,
   "id": "7b84b416-4e7c-4032-a2db-740b2082a9fb",
   "metadata": {},
   "outputs": [
    {
     "ename": "FileNotFoundError",
     "evalue": "[Errno 2] No such file or directory: 'test6.txt'",
     "output_type": "error",
     "traceback": [
      "\u001b[0;31m---------------------------------------------------------------------------\u001b[0m",
      "\u001b[0;31mFileNotFoundError\u001b[0m                         Traceback (most recent call last)",
      "Cell \u001b[0;32mIn[6], line 1\u001b[0m\n\u001b[0;32m----> 1\u001b[0m a\u001b[38;5;241m=\u001b[39m \u001b[38;5;28;43mopen\u001b[39;49m\u001b[43m \u001b[49m\u001b[43m(\u001b[49m\u001b[38;5;124;43m\"\u001b[39;49m\u001b[38;5;124;43mtest6.txt\u001b[39;49m\u001b[38;5;124;43m\"\u001b[39;49m\u001b[43m,\u001b[49m\u001b[43m \u001b[49m\u001b[38;5;124;43m'\u001b[39;49m\u001b[38;5;124;43mr\u001b[39;49m\u001b[38;5;124;43m'\u001b[39;49m\u001b[43m)\u001b[49m\n\u001b[1;32m      3\u001b[0m b\u001b[38;5;241m=\u001b[39m\u001b[38;5;241m885\u001b[39m\n",
      "File \u001b[0;32m/opt/conda/lib/python3.10/site-packages/IPython/core/interactiveshell.py:282\u001b[0m, in \u001b[0;36m_modified_open\u001b[0;34m(file, *args, **kwargs)\u001b[0m\n\u001b[1;32m    275\u001b[0m \u001b[38;5;28;01mif\u001b[39;00m file \u001b[38;5;129;01min\u001b[39;00m {\u001b[38;5;241m0\u001b[39m, \u001b[38;5;241m1\u001b[39m, \u001b[38;5;241m2\u001b[39m}:\n\u001b[1;32m    276\u001b[0m     \u001b[38;5;28;01mraise\u001b[39;00m \u001b[38;5;167;01mValueError\u001b[39;00m(\n\u001b[1;32m    277\u001b[0m         \u001b[38;5;124mf\u001b[39m\u001b[38;5;124m\"\u001b[39m\u001b[38;5;124mIPython won\u001b[39m\u001b[38;5;124m'\u001b[39m\u001b[38;5;124mt let you open fd=\u001b[39m\u001b[38;5;132;01m{\u001b[39;00mfile\u001b[38;5;132;01m}\u001b[39;00m\u001b[38;5;124m by default \u001b[39m\u001b[38;5;124m\"\u001b[39m\n\u001b[1;32m    278\u001b[0m         \u001b[38;5;124m\"\u001b[39m\u001b[38;5;124mas it is likely to crash IPython. If you know what you are doing, \u001b[39m\u001b[38;5;124m\"\u001b[39m\n\u001b[1;32m    279\u001b[0m         \u001b[38;5;124m\"\u001b[39m\u001b[38;5;124myou can use builtins\u001b[39m\u001b[38;5;124m'\u001b[39m\u001b[38;5;124m open.\u001b[39m\u001b[38;5;124m\"\u001b[39m\n\u001b[1;32m    280\u001b[0m     )\n\u001b[0;32m--> 282\u001b[0m \u001b[38;5;28;01mreturn\u001b[39;00m \u001b[43mio_open\u001b[49m\u001b[43m(\u001b[49m\u001b[43mfile\u001b[49m\u001b[43m,\u001b[49m\u001b[43m \u001b[49m\u001b[38;5;241;43m*\u001b[39;49m\u001b[43margs\u001b[49m\u001b[43m,\u001b[49m\u001b[43m \u001b[49m\u001b[38;5;241;43m*\u001b[39;49m\u001b[38;5;241;43m*\u001b[39;49m\u001b[43mkwargs\u001b[49m\u001b[43m)\u001b[49m\n",
      "\u001b[0;31mFileNotFoundError\u001b[0m: [Errno 2] No such file or directory: 'test6.txt'"
     ]
    }
   ],
   "source": [
    "a= open (\"test6.txt\", 'r')\n",
    "\n",
    "b=885\n"
   ]
  },
  {
   "cell_type": "code",
   "execution_count": 8,
   "id": "a2d4d5e2-d202-4e29-adb7-5dfbf4cfbf41",
   "metadata": {},
   "outputs": [],
   "source": [
    "# now we can see that when our first programme doesn't run because it's a error and because of that\n",
    "# my second variable not created because of our first code error. so when we don't use 'exception' our \n",
    "# code don't run."
   ]
  },
  {
   "cell_type": "code",
   "execution_count": 9,
   "id": "a8122c3e-21e7-4c4c-8b67-28fc96907568",
   "metadata": {},
   "outputs": [],
   "source": [
    "# Q3. Which Python statements are used to catch and handle exceptions? Explain with an example."
   ]
  },
  {
   "cell_type": "code",
   "execution_count": 10,
   "id": "0b323df3-8bad-4285-9105-25d9519e41ba",
   "metadata": {},
   "outputs": [],
   "source": [
    "# Ans = Try and except statements are used to catch and handle the exception.\n",
    "# for an example :-"
   ]
  },
  {
   "cell_type": "code",
   "execution_count": 17,
   "id": "0a0c5c23-4e5e-44f6-ac4f-845c6ea0fc3d",
   "metadata": {},
   "outputs": [
    {
     "name": "stdout",
     "output_type": "stream",
     "text": [
      "this code is incorrect name 'd' is not defined\n"
     ]
    }
   ],
   "source": [
    "try :\n",
    "    for i in range(10):\n",
    "        print (d)\n",
    "    \n",
    "except Exception as e :\n",
    "    print (\"this code is incorrect\",e)"
   ]
  },
  {
   "cell_type": "code",
   "execution_count": 18,
   "id": "fad44d15-4e73-48ea-aa7e-9a8a3e72fa62",
   "metadata": {},
   "outputs": [],
   "source": [
    "# now we can see that with a helf of try and except we handled the error in programme. our first for loop \n",
    "# is incorrect but we excuted the our print function."
   ]
  },
  {
   "cell_type": "code",
   "execution_count": 20,
   "id": "ae9d2764-d6eb-46a1-8c4d-079b69d21bd3",
   "metadata": {},
   "outputs": [],
   "source": [
    "# Q4. Explain with an example:\n",
    "\n",
    "    #a.try and else\n",
    "    #b.finally \n",
    "    #c.raise"
   ]
  },
  {
   "cell_type": "code",
   "execution_count": 44,
   "id": "ab9eebcf-79d9-4c52-b0ee-99f6c6447ff9",
   "metadata": {},
   "outputs": [],
   "source": [
    "# Ans =\n",
    "import logging"
   ]
  },
  {
   "cell_type": "code",
   "execution_count": 45,
   "id": "1f2b6fb7-3693-4bc4-b6a1-4cba2fa0ad11",
   "metadata": {},
   "outputs": [],
   "source": [
    "logging.basicConfig(filename= \"Assignemnts.log\", level = logging.INFO)"
   ]
  },
  {
   "cell_type": "code",
   "execution_count": 51,
   "id": "f1f85af7-934e-4ac8-8ba8-b153ccd665fd",
   "metadata": {},
   "outputs": [],
   "source": [
    "# try and else\n",
    "try:\n",
    "    A=open (\"assign1.txt\",'r' )\n",
    "    A.write(\"this is my assignment\")\n",
    "except Exception as e :\n",
    "    logging.info(\"your code is wrong\")\n",
    "else:\n",
    "    A.close()\n",
    "    logging.info(\"your code is correct\")"
   ]
  },
  {
   "cell_type": "code",
   "execution_count": 52,
   "id": "49b44797-6d56-44f2-9466-783737c428ea",
   "metadata": {},
   "outputs": [],
   "source": [
    "# the try block used to test a block of code for errors. \n",
    "# the else blcok is used when our code is correct."
   ]
  },
  {
   "cell_type": "code",
   "execution_count": 53,
   "id": "dfbca028-1da0-46fa-8e78-dd3fa7d2a16f",
   "metadata": {},
   "outputs": [],
   "source": [
    "# finally\n",
    "try:\n",
    "    B= open(\"example.txt\", \"r\")\n",
    "    c =B.read()\n",
    "    logging.info(c)\n",
    "except FileNotFoundError:\n",
    "    logging.info(\"The file does not exist.\")\n",
    "except Exception as e:\n",
    "    logging.info(\"An error occurred:\", str(e))\n",
    "finally:\n",
    "    B.close()\n"
   ]
  },
  {
   "cell_type": "code",
   "execution_count": 54,
   "id": "5131ee1a-5990-4a8b-960e-ed7339da031d",
   "metadata": {},
   "outputs": [],
   "source": [
    "# finally use when we want to excute some code at every situation ."
   ]
  },
  {
   "cell_type": "code",
   "execution_count": 74,
   "id": "4e99282b-2aa0-4c34-8dae-757e7770d98a",
   "metadata": {},
   "outputs": [],
   "source": [
    "# raise\n",
    "class Division(Exception):\n",
    "    def __init__ (self, msg):\n",
    "        self.msg= msg"
   ]
  },
  {
   "cell_type": "code",
   "execution_count": 75,
   "id": "82547e31-9d49-4a18-a663-07b2fda337f7",
   "metadata": {},
   "outputs": [
    {
     "name": "stdout",
     "output_type": "stream",
     "text": [
      "you entered wrong number\n"
     ]
    }
   ],
   "source": [
    "def division (a,b):\n",
    "    if b==0:\n",
    "        raise Division(\"you entered wrong number\")\n",
    "    print(a/b)\n",
    "\n",
    "try :\n",
    "    result = division(5,0)\n",
    "except Division as e:\n",
    "    print(e)"
   ]
  },
  {
   "cell_type": "code",
   "execution_count": 72,
   "id": "f597f9a2-4c2b-4cba-9d51-4404f57b2fe5",
   "metadata": {},
   "outputs": [],
   "source": [
    "# In this way, using the raise statement allows us to handle errors and raise exceptions in our code as needed."
   ]
  },
  {
   "cell_type": "code",
   "execution_count": 76,
   "id": "4e795cc4-bb06-45e0-9a96-a70db7079ca3",
   "metadata": {},
   "outputs": [],
   "source": [
    "# Q5= What are the custom exception in python? why do we need custom exception? explain with an example."
   ]
  },
  {
   "cell_type": "code",
   "execution_count": 77,
   "id": "4bb943fb-998d-4407-ab26-326bd879c6c8",
   "metadata": {},
   "outputs": [],
   "source": [
    "# Ans = custom exception are user defined exception .\n",
    "# it allows us to raise more specific and descriptive errors that are tailored to your program's logic.\n",
    "# Example:-"
   ]
  },
  {
   "cell_type": "code",
   "execution_count": 82,
   "id": "fffad217-5534-4487-b547-633444992f1a",
   "metadata": {},
   "outputs": [
    {
     "ename": "FileReadError",
     "evalue": "File not found",
     "output_type": "error",
     "traceback": [
      "\u001b[0;31m---------------------------------------------------------------------------\u001b[0m",
      "\u001b[0;31mFileNotFoundError\u001b[0m                         Traceback (most recent call last)",
      "Cell \u001b[0;32mIn[82], line 5\u001b[0m\n\u001b[1;32m      4\u001b[0m \u001b[38;5;28;01mtry\u001b[39;00m:\n\u001b[0;32m----> 5\u001b[0m     \u001b[38;5;28;01mwith\u001b[39;00m \u001b[38;5;28;43mopen\u001b[39;49m\u001b[43m(\u001b[49m\u001b[38;5;124;43m'\u001b[39;49m\u001b[38;5;124;43mmyfile.txt\u001b[39;49m\u001b[38;5;124;43m'\u001b[39;49m\u001b[43m,\u001b[49m\u001b[43m \u001b[49m\u001b[38;5;124;43m'\u001b[39;49m\u001b[38;5;124;43mr\u001b[39;49m\u001b[38;5;124;43m'\u001b[39;49m\u001b[43m)\u001b[49m \u001b[38;5;28;01mas\u001b[39;00m f:\n\u001b[1;32m      6\u001b[0m         data \u001b[38;5;241m=\u001b[39m f\u001b[38;5;241m.\u001b[39mread()\n",
      "File \u001b[0;32m/opt/conda/lib/python3.10/site-packages/IPython/core/interactiveshell.py:282\u001b[0m, in \u001b[0;36m_modified_open\u001b[0;34m(file, *args, **kwargs)\u001b[0m\n\u001b[1;32m    276\u001b[0m     \u001b[38;5;28;01mraise\u001b[39;00m \u001b[38;5;167;01mValueError\u001b[39;00m(\n\u001b[1;32m    277\u001b[0m         \u001b[38;5;124mf\u001b[39m\u001b[38;5;124m\"\u001b[39m\u001b[38;5;124mIPython won\u001b[39m\u001b[38;5;124m'\u001b[39m\u001b[38;5;124mt let you open fd=\u001b[39m\u001b[38;5;132;01m{\u001b[39;00mfile\u001b[38;5;132;01m}\u001b[39;00m\u001b[38;5;124m by default \u001b[39m\u001b[38;5;124m\"\u001b[39m\n\u001b[1;32m    278\u001b[0m         \u001b[38;5;124m\"\u001b[39m\u001b[38;5;124mas it is likely to crash IPython. If you know what you are doing, \u001b[39m\u001b[38;5;124m\"\u001b[39m\n\u001b[1;32m    279\u001b[0m         \u001b[38;5;124m\"\u001b[39m\u001b[38;5;124myou can use builtins\u001b[39m\u001b[38;5;124m'\u001b[39m\u001b[38;5;124m open.\u001b[39m\u001b[38;5;124m\"\u001b[39m\n\u001b[1;32m    280\u001b[0m     )\n\u001b[0;32m--> 282\u001b[0m \u001b[38;5;28;01mreturn\u001b[39;00m \u001b[43mio_open\u001b[49m\u001b[43m(\u001b[49m\u001b[43mfile\u001b[49m\u001b[43m,\u001b[49m\u001b[43m \u001b[49m\u001b[38;5;241;43m*\u001b[39;49m\u001b[43margs\u001b[49m\u001b[43m,\u001b[49m\u001b[43m \u001b[49m\u001b[38;5;241;43m*\u001b[39;49m\u001b[38;5;241;43m*\u001b[39;49m\u001b[43mkwargs\u001b[49m\u001b[43m)\u001b[49m\n",
      "\u001b[0;31mFileNotFoundError\u001b[0m: [Errno 2] No such file or directory: 'myfile.txt'",
      "\nDuring handling of the above exception, another exception occurred:\n",
      "\u001b[0;31mFileReadError\u001b[0m                             Traceback (most recent call last)",
      "Cell \u001b[0;32mIn[82], line 8\u001b[0m\n\u001b[1;32m      6\u001b[0m         data \u001b[38;5;241m=\u001b[39m f\u001b[38;5;241m.\u001b[39mread()\n\u001b[1;32m      7\u001b[0m \u001b[38;5;28;01mexcept\u001b[39;00m \u001b[38;5;167;01mFileNotFoundError\u001b[39;00m:\n\u001b[0;32m----> 8\u001b[0m     \u001b[38;5;28;01mraise\u001b[39;00m FileReadError(\u001b[38;5;124m\"\u001b[39m\u001b[38;5;124mFile not found\u001b[39m\u001b[38;5;124m\"\u001b[39m)\n\u001b[1;32m      9\u001b[0m \u001b[38;5;28;01mexcept\u001b[39;00m FileReadError \u001b[38;5;28;01mas\u001b[39;00m e:\n\u001b[1;32m     10\u001b[0m     \u001b[38;5;28mprint\u001b[39m(\u001b[38;5;124m\"\u001b[39m\u001b[38;5;124mAn error occurred:\u001b[39m\u001b[38;5;124m\"\u001b[39m, \u001b[38;5;28mstr\u001b[39m(e))\n",
      "\u001b[0;31mFileReadError\u001b[0m: File not found"
     ]
    }
   ],
   "source": []
  },
  {
   "cell_type": "code",
   "execution_count": 83,
   "id": "d949cead-25af-4860-b070-7b25c18ae2bf",
   "metadata": {},
   "outputs": [],
   "source": [
    "# Q6. Crete a custom exception class. Use this class to handle an exception."
   ]
  },
  {
   "cell_type": "code",
   "execution_count": 84,
   "id": "9bac0e92-a4ca-4d40-9cfc-f5ce43cafd87",
   "metadata": {},
   "outputs": [],
   "source": [
    "class Negative_number(Exception):\n",
    "    def __init__ (self, msg):\n",
    "        self.msg= msg"
   ]
  },
  {
   "cell_type": "code",
   "execution_count": 90,
   "id": "05b504e7-a3b7-4444-bfef-3742a9d2fdfe",
   "metadata": {},
   "outputs": [],
   "source": [
    "def negative_number (n):\n",
    "    if n<0:\n",
    "        raise Negative_number(\"you entered negative number\")\n",
    "    print(n)\n",
    "\n"
   ]
  },
  {
   "cell_type": "code",
   "execution_count": 92,
   "id": "e50ed30d-c037-4d69-acac-f569b41b92fc",
   "metadata": {},
   "outputs": [
    {
     "name": "stdin",
     "output_type": "stream",
     "text": [
      "enter your number -56\n"
     ]
    },
    {
     "name": "stdout",
     "output_type": "stream",
     "text": [
      "you entered negative number\n"
     ]
    }
   ],
   "source": [
    "try :\n",
    "    A=int(input(\"enter your number\"))\n",
    "    negative_number(A)\n",
    "except Negative_number as e:\n",
    "    print(e)"
   ]
  },
  {
   "cell_type": "code",
   "execution_count": null,
   "id": "99b9a5cc-89b1-4a47-8a65-d09ac0e9345d",
   "metadata": {},
   "outputs": [],
   "source": []
  }
 ],
 "metadata": {
  "kernelspec": {
   "display_name": "Python 3 (ipykernel)",
   "language": "python",
   "name": "python3"
  },
  "language_info": {
   "codemirror_mode": {
    "name": "ipython",
    "version": 3
   },
   "file_extension": ".py",
   "mimetype": "text/x-python",
   "name": "python",
   "nbconvert_exporter": "python",
   "pygments_lexer": "ipython3",
   "version": "3.10.8"
  }
 },
 "nbformat": 4,
 "nbformat_minor": 5
}
